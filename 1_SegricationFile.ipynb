{
 "cells": [
  {
   "cell_type": "code",
   "execution_count": 1,
   "id": "7a479045",
   "metadata": {},
   "outputs": [],
   "source": [
    "import os\n",
    "import shutil\n",
    "from PIL import Image"
   ]
  },
  {
   "cell_type": "code",
   "execution_count": 2,
   "id": "f8f24fea",
   "metadata": {},
   "outputs": [],
   "source": [
    "def augment_data(filepath, idx):\n",
    "    image = Image.open(filepath)\n",
    "    rotated_image_90 = image.rotate(90)\n",
    "    rotated_image_90.save(os.path.join(\"HR_DATA\",f\"{idx}_90.png\"))\n",
    "    flipped_image_90_lr = rotated_image_90.transpose(Image.FLIP_LEFT_RIGHT)\n",
    "    flipped_image_90_lr.save(os.path.join(\"HR_DATA\",f\"{idx}_90_lr.png\"))\n",
    "    flipped_image_90_tb = rotated_image_90.transpose(Image.FLIP_TOP_BOTTOM)\n",
    "    flipped_image_90_tb.save(os.path.join(\"HR_DATA\",f\"{idx}_90_tb.png\"))\n",
    "\n",
    "    rotated_image_180 = image.rotate(180)\n",
    "    rotated_image_180.save(os.path.join(\"HR_DATA\",f\"{idx}_180.png\"))\n",
    "    flipped_image_180_lr = rotated_image_180.transpose(Image.FLIP_LEFT_RIGHT)\n",
    "    flipped_image_180_lr.save(os.path.join(\"HR_DATA\",f\"{idx}_180_lr.png\"))\n",
    "    flipped_image_180_tb = rotated_image_180.transpose(Image.FLIP_TOP_BOTTOM)\n",
    "    flipped_image_180_tb.save(os.path.join(\"HR_DATA\",f\"{idx}_180_tb.png\"))\n",
    "    \n",
    "    rotated_image_270 = image.rotate(270)\n",
    "    rotated_image_270.save(os.path.join(\"HR_DATA\",f\"{idx}_270.png\"))\n",
    "    flipped_image_270_lr = rotated_image_270.transpose(Image.FLIP_LEFT_RIGHT)\n",
    "    flipped_image_270_lr.save(os.path.join(\"HR_DATA\",f\"{idx}_270_lr.png\"))\n",
    "    flipped_image_270_tb = rotated_image_270.transpose(Image.FLIP_TOP_BOTTOM)\n",
    "    flipped_image_270_tb.save(os.path.join(\"HR_DATA\",f\"{idx}_270_tb.png\"))\n",
    "    \n",
    "    shutil.copyfile(filepath, os.path.join(\"HR_DATA\", filepath.split(\"\\\\\")[1]))"
   ]
  },
  {
   "cell_type": "code",
   "execution_count": 3,
   "id": "9181a956",
   "metadata": {},
   "outputs": [
    {
     "data": {
      "text/plain": [
       "['hr (1).png',\n",
       " 'hr (10).png',\n",
       " 'hr (100).png',\n",
       " 'hr (101).png',\n",
       " 'hr (102).png',\n",
       " 'hr (103).png',\n",
       " 'hr (104).png',\n",
       " 'hr (105).png',\n",
       " 'hr (106).png',\n",
       " 'hr (107).png']"
      ]
     },
     "execution_count": 3,
     "metadata": {},
     "output_type": "execute_result"
    }
   ],
   "source": [
    "in_dir = \"data\"\n",
    "all_files = os.listdir(in_dir)\n",
    "all_files[:10]"
   ]
  },
  {
   "cell_type": "code",
   "execution_count": 4,
   "id": "7949fd97",
   "metadata": {},
   "outputs": [],
   "source": [
    "for index, file_ in enumerate(all_files):\n",
    "    augment_data(os.path.join(in_dir, file_), index)"
   ]
  },
  {
   "cell_type": "markdown",
   "id": "85ad6b65",
   "metadata": {},
   "source": [
    "---"
   ]
  }
 ],
 "metadata": {
  "kernelspec": {
   "display_name": "Python 3 (ipykernel)",
   "language": "python",
   "name": "python3"
  },
  "language_info": {
   "codemirror_mode": {
    "name": "ipython",
    "version": 3
   },
   "file_extension": ".py",
   "mimetype": "text/x-python",
   "name": "python",
   "nbconvert_exporter": "python",
   "pygments_lexer": "ipython3",
   "version": "3.9.7"
  }
 },
 "nbformat": 4,
 "nbformat_minor": 5
}
